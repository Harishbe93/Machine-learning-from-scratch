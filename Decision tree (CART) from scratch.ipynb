{
 "cells": [
  {
   "cell_type": "markdown",
   "metadata": {},
   "source": [
    "# Introduction to Decision trees"
   ]
  },
  {
   "cell_type": "markdown",
   "metadata": {},
   "source": [
    "Decision trees are a powerful prediction method and extremely popular.They are popular because the final model is so easy to understand by practitioners and domain experts alike. The final decision tree can explain exactly why a specific prediction was made, making it very attractive for operational use.\n",
    "\n",
    "We will look into a specific implementation of decision trees : CART (Classification and Regression Trees)"
   ]
  },
  {
   "cell_type": "code",
   "execution_count": 122,
   "metadata": {},
   "outputs": [],
   "source": [
    "from random import seed, randrange\n",
    "from csv import reader"
   ]
  },
  {
   "cell_type": "markdown",
   "metadata": {},
   "source": [
    "## Gini index\n",
    "        Gini index measures how often a randomly chosen element from the set would be incorrectly labelled. Gini index can be calculated as follows:"
   ]
  },
  {
   "cell_type": "code",
   "execution_count": 223,
   "metadata": {},
   "outputs": [
    {
     "data": {
      "image/png": "[encoded data removed]",
      "text/plain": [
       "<IPython.core.display.Image object>"
      ]
     },
     "execution_count": 223,
     "metadata": {},
     "output_type": "execute_result"
    }
   ],
   "source": [
    "from IPython.display import Image\n",
    "Image('gini.png')"
   ]
  },
  {
   "cell_type": "markdown",
   "metadata": {},
   "source": [
    "### Gini index for a particular value of a particular attribute is calculated as follows:\n",
    "    1. Divide the data into two groups based on the value and variable of interest\n",
    "    2. Calculate gini index for each of the groups. Now we have 2 numbers, how can we have a single number to indicate the quality of the split.\n",
    "            One way would be to average the gini index of the two groups. The problem here is that if a group has just one row, then the average of the two groups will be heavily skewed (and misinterpreted).Eg: average of 0 and 0.4 would be 0.2.So, we will be taking the weighted average. We multiply the gini index of each group by the proportion of instances in the group. In this way, we will be able to overcome the above mentioned problem. Eg: Weighted average of 0 and 0.4 would be 1/20 * 0 + 19/20 * 0.4 = 0.38 (Assuming 20 instances)\n",
    "    3. The gini index is then summed up and minimum value of the gini index is preferred"
   ]
  },
  {
   "cell_type": "code",
   "execution_count": 105,
   "metadata": {},
   "outputs": [],
   "source": [
    "def gini_index(groups, classes):\n",
    "    \"\"\"\n",
    "    Calculates the gini index of two groups of data\n",
    "    \n",
    "    ### Input ###\n",
    "    groups -> list of two groups each of which is a list of rows\n",
    "    classes -> unique classes in the dataset\n",
    "    \n",
    "    ### Output ###\n",
    "    gini -> Returns the gini index of the two groups split\n",
    "    \"\"\"\n",
    "    n_instances = sum([len(group) for group in groups])\n",
    "    gini = 0.0\n",
    "    for group in groups:\n",
    "        size = len(group)\n",
    "        if size == 0:\n",
    "            continue\n",
    "        scores = 0.0\n",
    "        for class_val in classes:\n",
    "            prop = [row[-1] for row in group].count(class_val)/size\n",
    "            scores += prop * prop\n",
    "        gini += (1 - scores) * (size / n_instances)\n",
    "    return gini        "
   ]
  },
  {
   "cell_type": "code",
   "execution_count": 106,
   "metadata": {},
   "outputs": [
    {
     "name": "stdout",
     "output_type": "stream",
     "text": [
      "0.5\n",
      "0.0\n"
     ]
    }
   ],
   "source": [
    "print(gini_index([[[1, 1], [1, 0]], [[1, 1], [1, 0]]], [0, 1]))\n",
    "print(gini_index([[[1, 0], [1, 0]], [[1, 1], [1, 1]]], [0, 1]))"
   ]
  },
  {
   "cell_type": "code",
   "execution_count": 107,
   "metadata": {},
   "outputs": [],
   "source": [
    "def split_dataset(dataset, index, value):\n",
    "    \"\"\"\n",
    "    Splits the dataset into two groups (left & right) based on the 'index' attribute & 'value'\n",
    "    \n",
    "    ### Input ###\n",
    "    dataset -> Input data to be split\n",
    "    index -> index of the column to split at\n",
    "    value -> value of the column to split at\n",
    "    \n",
    "    ### Output ###\n",
    "    left, right -> list of rows in the left node, list of rows in the right node\n",
    "    \"\"\"\n",
    "    left, right = [],[]\n",
    "    for row in dataset:\n",
    "        if row[index] < value:\n",
    "            left.append(row)\n",
    "        else:\n",
    "            right.append(row)\n",
    "    return left,right"
   ]
  },
  {
   "cell_type": "code",
   "execution_count": 108,
   "metadata": {},
   "outputs": [],
   "source": [
    "def get_best_split(dataset):\n",
    "    \"\"\"\n",
    "    Gets the best possible split in the input dataset\n",
    "    \n",
    "    ### Input ###\n",
    "    dataset -> List of rows on which splits needs to be evaluated\n",
    "    \n",
    "    ### Output ###\n",
    "        Returns the dictionary of best index, best value to split, best gini & the groups that had best score\n",
    "    \"\"\"\n",
    "    classes = list(set([row[-1] for row in dataset]))\n",
    "    b_index, b_value, b_score, b_groups = 999, 999, 999, None\n",
    "    for index in range(len(dataset[0])-1):\n",
    "        for row in dataset:\n",
    "            groups = split_dataset(dataset, index, row[index])\n",
    "            gini = gini_index(groups, classes)\n",
    "            if gini < b_score:\n",
    "                b_index, b_value, b_score, b_groups = index, row[index], gini, groups\n",
    "    return {\"index\":b_index, \"value\":b_value, \"gini\":b_score, \"groups\":b_groups}            "
   ]
  },
  {
   "cell_type": "code",
   "execution_count": 181,
   "metadata": {},
   "outputs": [],
   "source": [
    "dataset = [[2.771244718,1.784783929,0],\n",
    "[1.728571309,1.169761413,0],\n",
    "[3.678319846,2.81281357,0],\n",
    "[3.961043357,2.61995032,0],\n",
    "[2.999208922,2.209014212,0],\n",
    "[7.497545867,3.162953546,1],\n",
    "[9.00220326,3.339047188,1],\n",
    "[7.444542326,0.476683375,1],\n",
    "[10.12493903,3.234550982,1],\n",
    "[6.642287351,3.319983761,1]]\n",
    "split = get_best_split(dataset)"
   ]
  },
  {
   "cell_type": "code",
   "execution_count": 109,
   "metadata": {},
   "outputs": [
    {
     "data": {
      "text/plain": [
       "{'index': 0,\n",
       " 'value': 6.642287351,\n",
       " 'gini': 0.0,\n",
       " 'groups': ([[2.771244718, 1.784783929, 0],\n",
       "   [1.728571309, 1.169761413, 0],\n",
       "   [3.678319846, 2.81281357, 0],\n",
       "   [3.961043357, 2.61995032, 0],\n",
       "   [2.999208922, 2.209014212, 0]],\n",
       "  [[7.497545867, 3.162953546, 1],\n",
       "   [9.00220326, 3.339047188, 1],\n",
       "   [7.444542326, 0.476683375, 1],\n",
       "   [10.12493903, 3.234550982, 1],\n",
       "   [6.642287351, 3.319983761, 1]])}"
      ]
     },
     "execution_count": 109,
     "metadata": {},
     "output_type": "execute_result"
    }
   ],
   "source": [
    "split"
   ]
  },
  {
   "cell_type": "code",
   "execution_count": 110,
   "metadata": {},
   "outputs": [],
   "source": [
    "def to_terminal(group):\n",
    "    \"\"\"\n",
    "    Makes a set of rows in node to a leaf node\n",
    "    \n",
    "    ### Input ###\n",
    "    group -> Set of rows to be set as leaf node\n",
    "    \n",
    "    ### Output ###\n",
    "        Returns the most repeating class of the outcomes in the given set of rows\n",
    "    \"\"\"\n",
    "    outcomes = [row[-1] for row in group]\n",
    "    return max(set(outcomes), key = outcomes.count)"
   ]
  },
  {
   "cell_type": "code",
   "execution_count": 111,
   "metadata": {},
   "outputs": [],
   "source": [
    "def split_node(node, max_depth, min_size, depth):\n",
    "    \"\"\"\n",
    "    Splits a node recursively until max_depth is met, or min_size is met, or one of the nodes is empty\n",
    "    \n",
    "    ### Input ###\n",
    "    node -> A dictionary returned by 'get_best_split()'\n",
    "    max_depth -> maximum depth the tree can grow to\n",
    "    min_size -> minimum number of samples needed to do a split\n",
    "    depth -> current depth of the tree\n",
    "    \n",
    "    ### Output ###\n",
    "        Returns nothing. It just keeps on adding key & values to the existing 'node' dictionary\n",
    "    \"\"\"\n",
    "    left, right = node[\"groups\"]\n",
    "    del node[\"groups\"]\n",
    "    \n",
    "    #Check for a no split\n",
    "    if not left or not right:\n",
    "        node[\"left\"] = node[\"right\"] = to_terminal(left+right)\n",
    "        return\n",
    "    \n",
    "    #Check for the max depth\n",
    "    if depth >= max_depth:\n",
    "        node[\"left\"], node[\"right\"] = to_terminal(left), to_terminal(right)\n",
    "        return\n",
    "    #Check for the min sample size in the node & process left node recursively\n",
    "    if len(left) <= min_size:\n",
    "        node[\"left\"] = to_terminal(left)\n",
    "    else:\n",
    "        node[\"left\"] = get_best_split(left)\n",
    "        split_node(node[\"left\"], max_depth, min_size, depth+1)\n",
    "    \n",
    "    #Check for the min sample size in the node & process right node recursively\n",
    "    if len(right) <= min_size:\n",
    "        node[\"right\"] = to_terminal(right)\n",
    "    else:\n",
    "        node[\"right\"] = get_best_split(right)\n",
    "        split_node(node[\"right\"], max_depth, min_size, depth+1)"
   ]
  },
  {
   "cell_type": "code",
   "execution_count": 112,
   "metadata": {},
   "outputs": [],
   "source": [
    "def build_tree(train, max_depth, min_size):\n",
    "    \"\"\"\n",
    "    Starts building the decision tree\n",
    "    \n",
    "    ### Input ###\n",
    "    train -> Input dataset\n",
    "    max_depth -> maximum depth the tree can grow to\n",
    "    min_size -> minimum number of samples needed to do a split\n",
    "    \n",
    "    ### Output ###\n",
    "    root -> A master dictionary containing all the traversing path information\n",
    "    \"\"\"\n",
    "    root = get_best_split(train)\n",
    "    split_node(root, max_depth, min_size, 1)\n",
    "    return root"
   ]
  },
  {
   "cell_type": "code",
   "execution_count": 113,
   "metadata": {},
   "outputs": [],
   "source": [
    "def print_tree(node, depth = 0):\n",
    "    \"\"\"\n",
    "    Prints the tree based on the indents to denote the depth of the tree\n",
    "    \n",
    "    ### Input ###\n",
    "    node -> Input dictionary\n",
    "    depth -> current depth of the tree\n",
    "    ### Output ###\n",
    "        Prints the decision tree\n",
    "    \"\"\"\n",
    "    if isinstance(node, dict):\n",
    "        print('%s[X%d < %.3f]' % ((depth * ' '),node['index']+1,node['value']))\n",
    "        print_tree(node[\"left\"], depth+1)\n",
    "        print_tree(node[\"right\"], depth+1)\n",
    "    else:\n",
    "        print('%s[%s]' % (depth*' ',node))"
   ]
  },
  {
   "cell_type": "code",
   "execution_count": 180,
   "metadata": {},
   "outputs": [
    {
     "name": "stdout",
     "output_type": "stream",
     "text": [
      "[X1 < 0.322]\n",
      " [1.0]\n",
      " [0.0]\n"
     ]
    }
   ],
   "source": [
    "tree = build_tree(dataset,1,1)\n",
    "print_tree(tree)"
   ]
  },
  {
   "cell_type": "code",
   "execution_count": 115,
   "metadata": {},
   "outputs": [
    {
     "data": {
      "text/plain": [
       "{'index': 0,\n",
       " 'value': 6.642287351,\n",
       " 'gini': 0.0,\n",
       " 'left': {'index': 0,\n",
       "  'value': 2.771244718,\n",
       "  'gini': 0.0,\n",
       "  'left': 0,\n",
       "  'right': {'index': 0,\n",
       "   'value': 2.771244718,\n",
       "   'gini': 0.0,\n",
       "   'left': 0,\n",
       "   'right': 0}},\n",
       " 'right': {'index': 0,\n",
       "  'value': 7.497545867,\n",
       "  'gini': 0.0,\n",
       "  'left': {'index': 0,\n",
       "   'value': 7.444542326,\n",
       "   'gini': 0.0,\n",
       "   'left': 1,\n",
       "   'right': 1},\n",
       "  'right': {'index': 0,\n",
       "   'value': 7.497545867,\n",
       "   'gini': 0.0,\n",
       "   'left': 1,\n",
       "   'right': 1}}}"
      ]
     },
     "execution_count": 115,
     "metadata": {},
     "output_type": "execute_result"
    }
   ],
   "source": [
    "tree"
   ]
  },
  {
   "cell_type": "code",
   "execution_count": 120,
   "metadata": {},
   "outputs": [],
   "source": [
    "def predict(node, row):\n",
    "    \"\"\"\n",
    "    Makes a prediction for a given test row\n",
    "    \n",
    "    ### Input ###\n",
    "    node -> Input dictionary\n",
    "    row -> A row for which prediction needs to be made\n",
    "    \n",
    "    ### Output ###\n",
    "        Returns the prediction for a particular row\n",
    "    \"\"\"\n",
    "    if row[node[\"index\"]]<node[\"value\"]:\n",
    "        if isinstance(node[\"left\"], dict):\n",
    "            return predict(node[\"left\"],row)\n",
    "        else:\n",
    "            return node[\"left\"]\n",
    "    else:\n",
    "        if isinstance(node[\"right\"], dict):\n",
    "            return predict(node[\"right\"],row)\n",
    "        else:\n",
    "            return node[\"right\"]"
   ]
  },
  {
   "cell_type": "code",
   "execution_count": 121,
   "metadata": {},
   "outputs": [
    {
     "data": {
      "text/plain": [
       "0"
      ]
     },
     "execution_count": 121,
     "metadata": {},
     "output_type": "execute_result"
    }
   ],
   "source": [
    "predict(tree, [6.1,1,0])"
   ]
  },
  {
   "cell_type": "code",
   "execution_count": 96,
   "metadata": {},
   "outputs": [
    {
     "data": {
      "text/plain": [
       "{'index': 0,\n",
       " 'value': 6.642287351,\n",
       " 'gini': 0.0,\n",
       " 'left': {'index': 0,\n",
       "  'value': 2.771244718,\n",
       "  'gini': 0.0,\n",
       "  'left': 0,\n",
       "  'right': {'index': 0,\n",
       "   'value': 2.771244718,\n",
       "   'gini': 0.0,\n",
       "   'left': 0,\n",
       "   'right': 0}},\n",
       " 'right': {'index': 0,\n",
       "  'value': 7.497545867,\n",
       "  'gini': 0.0,\n",
       "  'left': {'index': 0,\n",
       "   'value': 7.444542326,\n",
       "   'gini': 0.0,\n",
       "   'left': 1,\n",
       "   'right': 1},\n",
       "  'right': {'index': 0,\n",
       "   'value': 7.497545867,\n",
       "   'gini': 0.0,\n",
       "   'left': 1,\n",
       "   'right': 1}}}"
      ]
     },
     "execution_count": 96,
     "metadata": {},
     "output_type": "execute_result"
    }
   ],
   "source": [
    "tree"
   ]
  },
  {
   "cell_type": "code",
   "execution_count": 123,
   "metadata": {},
   "outputs": [],
   "source": [
    "def load_csv(filename):\n",
    "    \"\"\"\n",
    "    Loads the .csv file\n",
    "    ###Input### \n",
    "        filename -> Name of the .csv file to be loaded\n",
    "    ###Output### \n",
    "        dataset -> Returns the .csv file in the form of a python list\n",
    "    \"\"\"\n",
    "    dataset = []\n",
    "    with open(filename,\"r\") as file:\n",
    "        csv_reader = reader(file)\n",
    "        for row in csv_reader:\n",
    "            if not row:\n",
    "                continue\n",
    "            dataset.append(row)\n",
    "    return dataset"
   ]
  },
  {
   "cell_type": "code",
   "execution_count": 124,
   "metadata": {},
   "outputs": [],
   "source": [
    "def str_column_to_float(dataset, column):\n",
    "    \"\"\"\n",
    "    Changes the numeric column which is stored as strings to float dtype\n",
    "    ###Input### \n",
    "        dataset -> The dataset containing the column\n",
    "        column -> Index of the column which contains the numbers (stored as strings)\n",
    "    ###Output### \n",
    "        None -> It changes the dtype of the column in the original dataset itself\n",
    "    \"\"\"\n",
    "    for row in dataset:\n",
    "        row[column] = float(row[column].strip())"
   ]
  },
  {
   "cell_type": "code",
   "execution_count": 125,
   "metadata": {},
   "outputs": [],
   "source": [
    "def cross_validation_split(dataset, nfolds):\n",
    "    \"\"\"\n",
    "    Performs the splitting of the dataset into \"nfolds\" folds\n",
    "    ###Input### \n",
    "        dataset -> The entire dataset that needs to be scaled\n",
    "        nfolds -> Number of folds to be used for cross validation\n",
    "    ###Output### \n",
    "        dataset_split -> A list containing \"nfolds\" folds to be used for cross validation\n",
    "    \"\"\"\n",
    "    dataset_split = []\n",
    "    dataset_copy = list(dataset)\n",
    "    fold_size = int(len(dataset)/nfolds)\n",
    "    for _ in range(nfolds):\n",
    "        fold = []\n",
    "        while len(fold) < fold_size:\n",
    "            index = randrange(len(dataset_copy))\n",
    "            fold.append(dataset_copy.pop(index))\n",
    "        dataset_split.append(fold)\n",
    "    return dataset_split"
   ]
  },
  {
   "cell_type": "code",
   "execution_count": 126,
   "metadata": {},
   "outputs": [],
   "source": [
    "def accuracy_metric(actuals, predictions):\n",
    "    \"\"\"\n",
    "    Calculates the accuracy of the predictions\n",
    "    ###Input### \n",
    "        actuals -> Actual target values\n",
    "        predictions -> Predicted target values\n",
    "    ###Output### \n",
    "        acc -> Returns the accuracy of the predictions\n",
    "    \"\"\"\n",
    "    correct = 0\n",
    "    for i in range(len(actuals)):\n",
    "        if actuals[i] == predictions[i]:\n",
    "            correct += 1\n",
    "    acc = (correct/len(actuals)) * 100.0\n",
    "    return acc"
   ]
  },
  {
   "cell_type": "code",
   "execution_count": 134,
   "metadata": {},
   "outputs": [],
   "source": [
    "def evaluate_algorithm(dataset, algorithm, nfolds, *args):\n",
    "    \"\"\"\n",
    "    Evaluates any algorithm using the K-fold cross validation technique\n",
    "    ###Input### \n",
    "        dataset -> Input dataset\n",
    "        algorithm -> Function that performs K-NN and returns predictions\n",
    "        nfolds -> Number of folds to be used in cross validation\n",
    "        *args -> Variable number of arguments to be used in the function, if needed\n",
    "    ###Output### \n",
    "        scores -> Returns a list of scores on the different folds used\n",
    "    \"\"\"\n",
    "    folds = cross_validation_split(dataset, nfolds)\n",
    "    scores = []\n",
    "    for fold in folds:\n",
    "        train_set = list(folds)\n",
    "        train_set.remove(fold)\n",
    "        train_set = sum(train_set,[])\n",
    "        test_set = list(fold)\n",
    "        predictions = algorithm(train_set, test_set, *args)\n",
    "        actuals = [row[-1] for row in test_set]\n",
    "        accuracy = accuracy_metric(actuals, predictions)\n",
    "        scores.append(accuracy)\n",
    "    return scores"
   ]
  },
  {
   "cell_type": "code",
   "execution_count": 135,
   "metadata": {},
   "outputs": [],
   "source": [
    "def CART(train, test, max_depth, min_size):\n",
    "    \"\"\"\n",
    "    Takes the training data to build the tree and predicts for the test data\n",
    "    \n",
    "    ### Input ###\n",
    "    train -> input dataset\n",
    "    test -> dataset for which predictions needs to be made\n",
    "    max_depth -> maximum depth the tree can grow to\n",
    "    min_size -> minimum number of samples needed to do a split\n",
    "    \n",
    "    ### Output ###\n",
    "    predictions -> List of predictions for each row in the test set\n",
    "    \"\"\"\n",
    "    tree = build_tree(train, max_depth, min_size)\n",
    "    predictions = []\n",
    "    for row in test:\n",
    "        pred = predict(tree, row)\n",
    "        predictions.append(pred)\n",
    "    return predictions"
   ]
  },
  {
   "cell_type": "code",
   "execution_count": 130,
   "metadata": {},
   "outputs": [
    {
     "data": {
      "text/plain": [
       "'C:\\\\Users\\\\s5rxcy'"
      ]
     },
     "execution_count": 130,
     "metadata": {},
     "output_type": "execute_result"
    }
   ],
   "source": [
    "import os\n",
    "os.getcwd()"
   ]
  },
  {
   "cell_type": "code",
   "execution_count": 205,
   "metadata": {},
   "outputs": [
    {
     "name": "stdout",
     "output_type": "stream",
     "text": [
      "['3.6216', '8.6661', '-2.8073', '-0.44699', '0']\n",
      "Scores: [96.35036496350365, 97.08029197080292, 97.44525547445255, 98.17518248175182, 97.44525547445255]\n",
      "Mean Accuracy: 97.299%\n"
     ]
    }
   ],
   "source": [
    "seed(1)\n",
    "# load and prepare data\n",
    "filename = 'data_banknote_authentication.csv'\n",
    "dataset = load_csv(filename)\n",
    "print(dataset[0])\n",
    "# convert string attributes to integers\n",
    "for i in range(len(dataset[0])):\n",
    "    str_column_to_float(dataset, i)\n",
    "# evaluate algorithm\n",
    "n_folds = 5\n",
    "max_depth = 5\n",
    "min_size = 10\n",
    "scores = evaluate_algorithm(dataset, CART, n_folds, max_depth, min_size)\n",
    "print('Scores: %s' % scores)\n",
    "print('Mean Accuracy: %.3f%%' % (sum(scores)/float(len(scores))))"
   ]
  },
  {
   "cell_type": "markdown",
   "metadata": {},
   "source": [
    "Let's now validate our implementation with the sklearn implementation"
   ]
  },
  {
   "cell_type": "code",
   "execution_count": 169,
   "metadata": {},
   "outputs": [],
   "source": [
    "from sklearn.tree import DecisionTreeClassifier\n",
    "from sklearn.model_selection import cross_val_score\n",
    "import pandas as pd"
   ]
  },
  {
   "cell_type": "code",
   "execution_count": 170,
   "metadata": {},
   "outputs": [],
   "source": [
    "data = pd.read_csv('data_banknote_authentication.csv', names = [\"V1\",\"V2\",\"V3\",\"V4\",\"Class\"])"
   ]
  },
  {
   "cell_type": "code",
   "execution_count": 171,
   "metadata": {},
   "outputs": [
    {
     "data": {
      "text/html": [
       "<div>\n",
       "<style scoped>\n",
       "    .dataframe tbody tr th:only-of-type {\n",
       "        vertical-align: middle;\n",
       "    }\n",
       "\n",
       "    .dataframe tbody tr th {\n",
       "        vertical-align: top;\n",
       "    }\n",
       "\n",
       "    .dataframe thead th {\n",
       "        text-align: right;\n",
       "    }\n",
       "</style>\n",
       "<table border=\"1\" class=\"dataframe\">\n",
       "  <thead>\n",
       "    <tr style=\"text-align: right;\">\n",
       "      <th></th>\n",
       "      <th>V1</th>\n",
       "      <th>V2</th>\n",
       "      <th>V3</th>\n",
       "      <th>V4</th>\n",
       "      <th>Class</th>\n",
       "    </tr>\n",
       "  </thead>\n",
       "  <tbody>\n",
       "    <tr>\n",
       "      <th>0</th>\n",
       "      <td>3.62160</td>\n",
       "      <td>8.6661</td>\n",
       "      <td>-2.8073</td>\n",
       "      <td>-0.44699</td>\n",
       "      <td>0</td>\n",
       "    </tr>\n",
       "    <tr>\n",
       "      <th>1</th>\n",
       "      <td>4.54590</td>\n",
       "      <td>8.1674</td>\n",
       "      <td>-2.4586</td>\n",
       "      <td>-1.46210</td>\n",
       "      <td>0</td>\n",
       "    </tr>\n",
       "    <tr>\n",
       "      <th>2</th>\n",
       "      <td>3.86600</td>\n",
       "      <td>-2.6383</td>\n",
       "      <td>1.9242</td>\n",
       "      <td>0.10645</td>\n",
       "      <td>0</td>\n",
       "    </tr>\n",
       "    <tr>\n",
       "      <th>3</th>\n",
       "      <td>3.45660</td>\n",
       "      <td>9.5228</td>\n",
       "      <td>-4.0112</td>\n",
       "      <td>-3.59440</td>\n",
       "      <td>0</td>\n",
       "    </tr>\n",
       "    <tr>\n",
       "      <th>4</th>\n",
       "      <td>0.32924</td>\n",
       "      <td>-4.4552</td>\n",
       "      <td>4.5718</td>\n",
       "      <td>-0.98880</td>\n",
       "      <td>0</td>\n",
       "    </tr>\n",
       "  </tbody>\n",
       "</table>\n",
       "</div>"
      ],
      "text/plain": [
       "        V1      V2      V3       V4  Class\n",
       "0  3.62160  8.6661 -2.8073 -0.44699      0\n",
       "1  4.54590  8.1674 -2.4586 -1.46210      0\n",
       "2  3.86600 -2.6383  1.9242  0.10645      0\n",
       "3  3.45660  9.5228 -4.0112 -3.59440      0\n",
       "4  0.32924 -4.4552  4.5718 -0.98880      0"
      ]
     },
     "execution_count": 171,
     "metadata": {},
     "output_type": "execute_result"
    }
   ],
   "source": [
    "data.head()"
   ]
  },
  {
   "cell_type": "code",
   "execution_count": 172,
   "metadata": {},
   "outputs": [],
   "source": [
    "dtree = DecisionTreeClassifier(random_state = 1, max_depth = 5, min_samples_split = 10)"
   ]
  },
  {
   "cell_type": "code",
   "execution_count": 173,
   "metadata": {},
   "outputs": [
    {
     "data": {
      "text/plain": [
       "DecisionTreeClassifier(class_weight=None, criterion='gini', max_depth=5,\n",
       "            max_features=None, max_leaf_nodes=None,\n",
       "            min_impurity_decrease=0.0, min_impurity_split=None,\n",
       "            min_samples_leaf=1, min_samples_split=10,\n",
       "            min_weight_fraction_leaf=0.0, presort=False, random_state=1,\n",
       "            splitter='best')"
      ]
     },
     "execution_count": 173,
     "metadata": {},
     "output_type": "execute_result"
    }
   ],
   "source": [
    "dtree"
   ]
  },
  {
   "cell_type": "code",
   "execution_count": 174,
   "metadata": {},
   "outputs": [],
   "source": [
    "scores = cross_val_score(dtree, data.drop(\"Class\", axis = 1), data[\"Class\"],cv = 5)"
   ]
  },
  {
   "cell_type": "code",
   "execution_count": 175,
   "metadata": {},
   "outputs": [
    {
     "data": {
      "text/plain": [
       "0.970850696748507"
      ]
     },
     "execution_count": 175,
     "metadata": {},
     "output_type": "execute_result"
    }
   ],
   "source": [
    "scores.mean()"
   ]
  },
  {
   "cell_type": "markdown",
   "metadata": {},
   "source": [
    "# Benchmarking"
   ]
  },
  {
   "cell_type": "markdown",
   "metadata": {},
   "source": [
    "### Our implementation"
   ]
  },
  {
   "cell_type": "code",
   "execution_count": 207,
   "metadata": {},
   "outputs": [
    {
     "name": "stdout",
     "output_type": "stream",
     "text": [
      "Scores: [91.97080291970804, 93.06569343065694, 88.32116788321169, 91.24087591240875, 90.87591240875912]\n",
      "Mean Accuracy: 91.095%\n"
     ]
    }
   ],
   "source": [
    "# evaluate algorithm\n",
    "n_folds = 5\n",
    "max_depth = 2\n",
    "min_size = 10\n",
    "scores = evaluate_algorithm(dataset, CART, n_folds, max_depth, min_size)\n",
    "print('Scores: %s' % scores)\n",
    "print('Mean Accuracy: %.3f%%' % (sum(scores)/float(len(scores))))"
   ]
  },
  {
   "cell_type": "markdown",
   "metadata": {},
   "source": [
    "### Sklearn's implementation"
   ]
  },
  {
   "cell_type": "code",
   "execution_count": 199,
   "metadata": {},
   "outputs": [],
   "source": [
    "dtree = DecisionTreeClassifier(random_state = 1, max_depth = 2, min_samples_split = 10)\n",
    "scores = cross_val_score(dtree, data.drop(\"Class\", axis = 1), data[\"Class\"],cv = 5)"
   ]
  },
  {
   "cell_type": "code",
   "execution_count": 201,
   "metadata": {},
   "outputs": [
    {
     "data": {
      "text/plain": [
       "DecisionTreeClassifier(class_weight=None, criterion='gini', max_depth=2,\n",
       "            max_features=None, max_leaf_nodes=None,\n",
       "            min_impurity_decrease=0.0, min_impurity_split=None,\n",
       "            min_samples_leaf=1, min_samples_split=10,\n",
       "            min_weight_fraction_leaf=0.0, presort=False, random_state=1,\n",
       "            splitter='best')"
      ]
     },
     "execution_count": 201,
     "metadata": {},
     "output_type": "execute_result"
    }
   ],
   "source": [
    "dtree.fit(data.drop(\"Class\", axis = 1), data[\"Class\"])"
   ]
  },
  {
   "cell_type": "code",
   "execution_count": 200,
   "metadata": {},
   "outputs": [
    {
     "data": {
      "text/plain": [
       "0.9081725282017252"
      ]
     },
     "execution_count": 200,
     "metadata": {},
     "output_type": "execute_result"
    }
   ],
   "source": [
    "scores.mean()"
   ]
  },
  {
   "cell_type": "markdown",
   "metadata": {},
   "source": [
    "Visualize the trees to see if they have picked up same split points"
   ]
  },
  {
   "cell_type": "code",
   "execution_count": 211,
   "metadata": {},
   "outputs": [
    {
     "name": "stdout",
     "output_type": "stream",
     "text": [
      "[X1 < 0.322]\n",
      " [X2 < 7.627]\n",
      "  [1.0]\n",
      "  [0.0]\n",
      " [X3 < -4.384]\n",
      "  [1.0]\n",
      "  [0.0]\n"
     ]
    }
   ],
   "source": [
    "tree = build_tree(dataset,2,1)\n",
    "print_tree(tree)"
   ]
  },
  {
   "cell_type": "code",
   "execution_count": 220,
   "metadata": {},
   "outputs": [
    {
     "data": {
      "text/plain": [
       "(105, 5)"
      ]
     },
     "execution_count": 220,
     "metadata": {},
     "output_type": "execute_result"
    }
   ],
   "source": [
    "data[(data[\"V2\"] > 7.627) & (data[\"V1\"] <= 0.32)].shape"
   ]
  },
  {
   "cell_type": "code",
   "execution_count": 208,
   "metadata": {},
   "outputs": [
    {
     "data": {
      "text/plain": [
       "0"
      ]
     },
     "execution_count": 208,
     "metadata": {},
     "output_type": "execute_result"
    }
   ],
   "source": [
    "os.system('dot -Tpng tree.dot -o tree.png')"
   ]
  },
  {
   "cell_type": "code",
   "execution_count": 209,
   "metadata": {},
   "outputs": [
    {
     "data": {
      "image/png": "[encoded data removed]",
      "text/plain": [
       "<IPython.core.display.Image object>"
      ]
     },
     "execution_count": 209,
     "metadata": {},
     "output_type": "execute_result"
    }
   ],
   "source": [
    "from IPython.display import Image\n",
    "Image(filename = \"tree.png\")"
   ]
  },
  {
   "cell_type": "markdown",
   "metadata": {},
   "source": [
    "We infer that our very own implementation of decision tree and sklearn's implementation is giving similar results :)"
   ]
  }
 ],
 "metadata": {
  "hide_input": false,
  "kernelspec": {
   "display_name": "Python 3",
   "language": "python",
   "name": "python3"
  },
  "language_info": {
   "codemirror_mode": {
    "name": "ipython",
    "version": 3
   },
   "file_extension": ".py",
   "mimetype": "text/x-python",
   "name": "python",
   "nbconvert_exporter": "python",
   "pygments_lexer": "ipython3",
   "version": "3.6.5"
  },
  "toc": {
   "base_numbering": 1,
   "nav_menu": {},
   "number_sections": true,
   "sideBar": true,
   "skip_h1_title": false,
   "title_cell": "Table of Contents",
   "title_sidebar": "Contents",
   "toc_cell": false,
   "toc_position": {},
   "toc_section_display": true,
   "toc_window_display": false
  }
 },
 "nbformat": 4,
 "nbformat_minor": 2
}
